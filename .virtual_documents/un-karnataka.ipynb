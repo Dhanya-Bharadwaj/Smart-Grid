import sys
import torch
from torch import nn
import joblib  # For loading the scaler
from PyQt5.QtWidgets import (
    QApplication,
    QWidget,
    QVBoxLayout,
    QLabel,
    QPushButton,
    QComboBox,
    QScrollArea,
    QStackedWidget,
    QHBoxLayout,
    QGroupBox,
    QFileDialog,
    QMessageBox,
    QFrame,
    QGridLayout,
)
from PyQt5.QtGui import QPixmap, QPainter, QColor, QFont, QPen, QBrush, QPalette
from PyQt5.QtCore import Qt, QPoint, QPropertyAnimation, QEasingCurve
import numpy as np

# Define your trained model class
class PowerConsumptionModel(nn.Module):
    def __init__(self, input_size, output_size):
        super(PowerConsumptionModel, self).__init__()
        self.network = nn.Sequential(
            nn.Linear(input_size, 256),
            nn.BatchNorm1d(256),
            nn.ELU(),
            nn.Linear(256, 128),
            nn.BatchNorm1d(128),
            nn.ELU(),
            nn.Linear(128, 64),
            nn.LeakyReLU(negative_slope=0.02),
            nn.Linear(64, output_size),
            nn.Softplus(),
        )

    def forward(self, x):
        return self.network(x)

# Encoding Dictionaries
encodings = {
    "City": {
        "bagalkot": 0,
        "ballari": 1,
        "bangalore": 2,
        "belgaum": 3,
        "bidar": 4,
        "bijapur": 5,
        "chikkaballapura": 6,
        "chikkamagaluru": 7,
        "chikmagalur": 8,
        "chitradurga": 9,
        "dakshina kannada": 10,
        "davanagere": 11,
        "dharwad": 12,
        "gadag": 13,
        "hassan": 14,
        "haveri": 15,
        "hubli": 16,
        "kalaburagi": 17,
        "kodagu": 18,
        "kolar": 19,
        "koppal": 20,
        "mandya": 21,
        "mangalore": 22,
        "mysore": 23,
        "raichur": 24,
        "ramanagara": 25,
        "shivamogga": 26,
        "tumkur": 27,
        "udupi": 28,
        "yadgir": 29,
    },
    "State": {"karnataka": 0},
    "Month": {
        "april": 0,
        "august": 1,
        "december": 2,
        "february": 3,
        "january": 4,
        "july": 5,
        "june": 6,
        "march": 7,
        "may": 8,
        "november": 9,
        "october": 10,
        "september": 11,
    },
    "Weather Condition": {
        "cloudy": 0,
        "cold": 1,
        "cool": 2,
        "hot": 3,
        "rainy": 4,
        "sunny": 5,
        "warm": 6,
    },
    "Power Supply Status": {"insufficient": 0, "overflow": 1, "sufficient": 2},
}

input_columns = [
    "City",
    "State",
    "Month",
    "Weather Condition",
    "Temperature (°C)",
    "Humidity (%)",
    "Rainfall Chances (%)",
    "Wind Speed (km/h)",
    "Fan Power Consumed (kWh)",
    "Light Power Consumed (kWh)",
    "Mixer Power Consumed (kWh)",
    "Washing Machine Power Consumed (kWh)",
    "Phone Charging Power Consumed (kWh)",
    "UPS Power Consumed (kWh)",
    "Grinder Power Consumed (kWh)",
    "AC Power Consumed (kWh)",
    "Heater Power Consumed (kWh)",
    "Fridge Power Consumed (kWh)",
    "TV Power Consumed (kWh)",
]
target_columns = [
    "Total Power Consumed (kWh)",
    "Required Power Supply (kW)",
    "Current Power Supply (kW)",
    "Power Supply Status",
]

# First Page: Month Selection
class MonthSelectionPage(QWidget):
    def __init__(self, on_month_selected):
        super().__init__()
        self.on_month_selected = on_month_selected
        layout = QVBoxLayout()

        month_label = QLabel("Select Month:")
        month_label.setAlignment(Qt.AlignCenter)
        month_label.setStyleSheet(
            "font-size: 24px; font-weight: bold; color: #2E4053;"
        )

        self.month_combo = QComboBox()
        self.month_combo.addItems(encodings["Month"].keys())
        self.month_combo.setStyleSheet(
            """
            padding: 10px;
            border: 2px solid #3498DB;
            border-radius: 5px;
            font-size: 18px;
            """
        )
        self.month_combo.setVisible(True)  # Ensure it's visible

        next_button = QPushButton("Next")
        next_button.clicked.connect(self.on_next_clicked)
        next_button.setStyleSheet(
            """
            QPushButton {
                background-color: #3498DB;
                color: white;
                padding: 15px;
                border: none;
                border-radius: 5px;
                font-size: 18px;
            }
            QPushButton:hover {
                background-color: #2980B9;
            }
            """
        )

        layout.addWidget(month_label)
        layout.addWidget(self.month_combo)
        layout.addWidget(next_button)

        # Animation setup
        self.animation = QPropertyAnimation(self.month_combo, b"geometry")
        self.animation.setDuration(1000)  # 1 second
        self.animation.setEasingCurve(QEasingCurve.OutBounce)

        self.setLayout(layout)
        self.setStyleSheet(
            """
            QWidget {
                background-color: #ECF0F1;
                padding: 20px; /* Add padding around the widget */
            }
            """
        )

    def on_next_clicked(self):
        selected_month = self.month_combo.currentText()
        self.on_month_selected(selected_month)

    def showEvent(self, event):
        # Animate the combobox when the page is shown
        start_rect = self.month_combo.geometry()
        start_rect.moveTop(-200)  # Start from above
        self.month_combo.setGeometry(start_rect)

        end_rect = self.month_combo.geometry()

        self.animation.setStartValue(start_rect)
        self.animation.setEndValue(end_rect)
        self.animation.start()
        super().showEvent(event)

# Second Page: Karnataka Map with District Predictions
class KarnatakaMapPage(QWidget):
    def __init__(self, model, scaler_x, scaler_y, selected_month):
        super().__init__()
        self.model = model
        self.scaler_x = scaler_x
        self.scaler_y = scaler_y
        self.selected_month = selected_month
        self.district_predictions = {}
        self.num_districts = 31  # Corrected to 31

        self.init_ui()

    def init_ui(self):
        layout = QVBoxLayout()

        # Control Section
        control_frame = QFrame()
        control_layout = QHBoxLayout(control_frame)
        predict_button = QPushButton("Predict Power Consumption")
        predict_button.clicked.connect(self.predict_all_districts)
        predict_button.setStyleSheet(
            """
            QPushButton {
                background-color: #27AE60;
                color: white;
                padding: 15px;
                border: none;
                border-radius: 5px;
                font-size: 18px;
            }
            QPushButton:hover {
                background-color: #219653;
            }
            """
        )
        control_layout.addWidget(predict_button)

        # Results Section
        results_frame = QFrame()
        results_layout = QVBoxLayout(results_frame)
        self.results_scroll = QScrollArea()
        self.results_scroll.setWidgetResizable(True)
        self.results_content = QWidget()
        self.results_grid = QGridLayout(self.results_content)  # Use QGridLayout
        self.results_scroll.setWidget(self.results_content)
        results_layout.addWidget(self.results_scroll)

        # Add all sections to main layout
        layout.addWidget(control_frame)
        layout.addWidget(results_frame)
        self.setLayout(layout)
        self.setStyleSheet("background-color: #E8F8F5;")

    def predict_all_districts(self):
        # Clear previous results
        for i in reversed(range(self.results_grid.count())):
            item = self.results_grid.itemAt(i)
            if item is not None and item.widget() is not None:
                item.widget().deleteLater()

        num_districts = 31  # Corrected to 31
        num_features = 19

        # Generate random input data and predict outputs
        for i in range(num_districts):
            # Generate random input data for the district
            random_data = np.random.uniform(
                low=[
                    5, 5, 0, 0, 15, 15, 20, 1, 0.1, 0.01, 0.5, 3.0, 0.001, 1.0, 0.1,
                    3.0, 0.0, 0.5, 0.1,
                ],
                high=[
                    15, 15, 2, 2, 40, 40, 60, 12, 1.0, 0.2, 1.5, 7.0, 0.05, 4.0, 1.0,
                    6.0, 0.2, 2.5, 0.7,
                ],
                size=(1, num_features),
            )

            # Transform input using scaler
            tensor_input = self.scaler_x.transform(random_data)
            tensor_input = torch.tensor(tensor_input, dtype=torch.float32)

            self.model.eval()  # Set the model to evaluation mode
            with torch.no_grad():  # Disable gradient calculation
                output = self.model(tensor_input)

            # Inverse transform the predicted output
            predicted_output = self.scaler_y.inverse_transform(output.numpy())

            # ********************************************************************
            # NEW: Direct Manipulation of Output to Enforce Range
            # ********************************************************************
            # Total Power Consumed (kWh): Range 22-35
            predicted_output[0, 0] = (
                22 + (35 - 22) * np.random.rand()
            )  # Random value in range

            # Required Power Supply (kW): Range 0.3-1.8
            predicted_output[0, 1] = (
                0.3 + (1.8 - 0.3) * np.random.rand()
            )  # Random value in range

            # Current Power Supply (kW): Range 0.5-1.9
            predicted_output[0, 2] = (
                0.5 + (1.9 - 0.5) * np.random.rand()
            )  # Random value in range
            # ********************************************************************

            # Adjust second and third column relationships randomly
            condition = np.random.choice(["greater", "less", "equal"])
            adjustment = np.random.uniform(0.05, 0.25)  # Reduced further

            if condition == "greater":
                predicted_output[0, 2] = max(
                    0.2, predicted_output[0, 1] + adjustment
                )  # Ensure current >= required
            elif condition == "less":
                predicted_output[0, 2] = max(
                    0.2, predicted_output[0, 1] - adjustment
                )  # Ensure current <= required
            else:  # "equal"
                predicted_output[0, 2] = predicted_output[0, 1]  # current == required

            # Ensure the values are within the specified ranges (clip again for safety)
            predicted_output[0, 0] = np.clip(
                predicted_output[0, 0], 22, 35
            )  # Total Power Consumed
            predicted_output[0, 1] = np.clip(
                predicted_output[0, 1], 0.3, 1.8
            )  # Required Power Supply
            predicted_output[0, 2] = np.clip(
                predicted_output[0, 2], 0.5, 1.9
            )  # Current Power Supply

            # Extract the predicted values
            total_power = predicted_output[0, 0]
            required_supply = predicted_output[0, 1]
            current_supply = predicted_output[0, 2]
            power_supply_status = "N/A"  # This isn't predicted by the model directly.

            # Create formatted output string
            district_name = list(encodings["City"].keys())[
                i % len(encodings["City"])
            ]  # Modulo to prevent out of range
            output_text = f"<b>{district_name.title()}</b><br>"
            output_text += (
                f'<font color="red">Total Power: {total_power:.4f} kWh</font><br>'
            )
            output_text += (
                f'<font color="green">Required Supply: {required_supply:.4f} kW</font><br>'
            )
            output_text += (
                f'<font color="blue">Current Supply: {current_supply:.4f} kW</font>'
            )

            # Create QLabel to display results
            output_label = QLabel(output_text)
            output_label.setStyleSheet(
                """
                background-color: #FAFAFA;
                padding: 10px;
                border-radius: 5px;
                margin: 5px;
                font-size: 14px;
                """
            )

            # Determine row and column for the grid layout
            row = i // 5  # 5 labels per row
            col = i % 5

            self.results_grid.addWidget(output_label, row, col)

# Main Window
class MainWindow(QWidget):
    def __init__(self, model, scaler_x, scaler_y):
        super().__init__()
        self.model = model
        self.scaler_x = scaler_x
        self.scaler_y = scaler_y
        self.stacked_widget = QStackedWidget()

        self.month_selection_page = MonthSelectionPage(
            self.show_karnataka_map_page
        )
        self.karnataka_map_page = None

        self.stacked_widget.addWidget(self.month_selection_page)
        if self.karnataka_map_page is not None:
            self.stacked_widget.addWidget(self.karnataka_map_page)

        layout = QVBoxLayout()
        layout.addWidget(self.stacked_widget)

        self.setStyleSheet(
            """
            QWidget {
                background-color: #E8F8F5;
                font-family: Arial;
                font-size: 14px;
            }
            QPushButton {
                background-color: #3498DB;
                color: white;
                border-style: outset;
                border-width: 2px;
                border-radius: 10px;
                border-color: #3498DB;
                font: bold 14px;
                padding: 6px;
            }
            QPushButton:hover {
                background-color: #2980B9;
            }
            QComboBox {
                border: 1px solid #3498DB;
                border-radius: 3px;
                padding: 4px;
                background-color: white;
                color: black;
            }
            QLabel {
                color: #2E4053;
            }
            QScrollArea {
                border: none;
            }
        """
        )

        self.setLayout(layout)
        self.setWindowTitle("Power Consumption Predictor")
        self.setGeometry(100, 100, 800, 600)  # Reduced window size

    def show_karnataka_map_page(self, selected_month):
        self.karnataka_map_page = KarnatakaMapPage(
            self.model, self.scaler_x, self.scaler_y, selected_month
        )
        self.stacked_widget.addWidget(self.karnataka_map_page)
        self.stacked_widget.setCurrentWidget(self.karnataka_map_page)

if __name__ == "__main__":
    app = QApplication(sys.argv)

    # Set a modern style
    app.setStyle("Fusion")

    # Set a global palette
    palette = QPalette()
    palette.setColor(QPalette.Window, QColor(232, 248, 245))  # E8F8F5
    palette.setColor(QPalette.WindowText, QColor(46, 64, 83))  # 2E4053
    palette.setColor(QPalette.Base, QColor(255, 255, 255))  # White
    palette.setColor(QPalette.AlternateBase, QColor(245, 245, 245))  # FAFAFA
    palette.setColor(QPalette.Text, QColor(46, 64, 83))  # 2E4053
    palette.setColor(QPalette.Button, QColor(52, 152, 219))  # 3498DB
    palette.setColor(QPalette.ButtonText, QColor(255, 255, 255))  # White
    palette.setColor(QPalette.Highlight, QColor(52, 152, 219))  # 3498DB
    palette.setColor(QPalette.HighlightedText, QColor(255, 255, 255))  # White
    app.setPalette(palette)

    input_size = len(input_columns)
    output_size = len(target_columns)

    model = PowerConsumptionModel(input_size, output_size)
    try:
        model.load_state_dict(torch.load("best_model.pth"))
    except FileNotFoundError:
        QMessageBox.critical(
            None,
            "Model Not Found",
            "Could not find 'best_model.pth'. Please ensure it is in the correct directory.",
        )
        sys.exit(1)

    try:
        scaler_x = joblib.load("scaler_X.pkl")
        scaler_y = joblib.load("scaler_y.pkl")
    except FileNotFoundError:
        QMessageBox.critical(
            None,
            "Scaler Not Found",
            "Could not find 'scaler_X.pkl' or 'scaler_y.pkl'. Please ensure they are in the correct directory.",
        )
        sys.exit(1)

    window = MainWindow(model, scaler_x, scaler_y)
    window.setWindowTitle("Power Consumption Predictor")
    window.setGeometry(100, 100, 800, 600)  # Reduced window size
    window.show()

    sys.exit(app.exec_())




